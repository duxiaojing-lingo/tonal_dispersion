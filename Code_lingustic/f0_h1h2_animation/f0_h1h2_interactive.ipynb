{
 "cells": [
  {
   "cell_type": "code",
   "execution_count": 6,
   "id": "7456c696-94b2-49c4-81d8-ea7f0c5ab9eb",
   "metadata": {},
   "outputs": [
    {
     "data": {
      "application/vnd.jupyter.widget-view+json": {
       "model_id": "3a58eb6b17464fe9a2755b01d1de3c6e",
       "version_major": 2,
       "version_minor": 0
      },
      "text/plain": [
       "HBox(children=(Dropdown(description='Tone:', options=('qu', 'ru', 'shang', 'yang', 'yin'), value='qu'), IntSli…"
      ]
     },
     "metadata": {},
     "output_type": "display_data"
    },
    {
     "data": {
      "application/vnd.jupyter.widget-view+json": {
       "model_id": "f085547586bf4d3aba612831a89218de",
       "version_major": 2,
       "version_minor": 0
      },
      "text/plain": [
       "FigureWidget({\n",
       "    'data': [{'line': {'color': 'rgb(246,0,8)', 'width': 4},\n",
       "              'mode': 'lines',\n",
       "              'showlegend': False,\n",
       "              'type': 'scatter',\n",
       "              'uid': '8b3ac05e-31d0-4c77-9501-8c02c0498053',\n",
       "              'x': [-3.3356666666666666, -3.3356666666666666],\n",
       "              'y': [-10, 10]},\n",
       "             {'line': {'color': 'rgb(246,0,8)', 'width': 4},\n",
       "              'mode': 'lines',\n",
       "              'showlegend': False,\n",
       "              'type': 'scatter',\n",
       "              'uid': '827272fe-0efc-4708-ba63-260558951740',\n",
       "              'x': [3.3356666666666666, 3.3356666666666666],\n",
       "              'y': [-10, 10]}],\n",
       "    'layout': {'showlegend': False,\n",
       "               'template': '...',\n",
       "               'title': {'text': 'Tone: qu | Frame: 0 | Time: 0.00'},\n",
       "               'xaxis': {'visible': False},\n",
       "               'yaxis': {'range': [-10, 10]}}\n",
       "})"
      ]
     },
     "metadata": {},
     "output_type": "display_data"
    },
    {
     "data": {
      "application/vnd.jupyter.widget-view+json": {
       "model_id": "cb75905f40c64a979a94aebaf7e38fdc",
       "version_major": 2,
       "version_minor": 0
      },
      "text/plain": [
       "VBox(children=(HBox(children=(FloatProgress(value=6.671333333333333, description='h1h2:', max=8.90712259259259…"
      ]
     },
     "metadata": {},
     "output_type": "display_data"
    },
    {
     "data": {
      "application/vnd.jupyter.widget-view+json": {
       "model_id": "e49203bbab3543249d0ef34e10ad3be6",
       "version_major": 2,
       "version_minor": 0
      },
      "text/plain": [
       "HBox(children=(Button(button_style='success', description='Start Animation', style=ButtonStyle()), Button(butt…"
      ]
     },
     "metadata": {},
     "output_type": "display_data"
    }
   ],
   "source": [
    "# %% [code]\n",
    "import pickle\n",
    "import numpy as np\n",
    "import plotly.graph_objects as go\n",
    "import ipywidgets as widgets\n",
    "from IPython.display import display\n",
    "import asyncio\n",
    "\n",
    "num_person = \"both\"\n",
    "\n",
    "pkl_location_h1h2 = f'/Users/emilydu/Code/Code_lingustic/Data/f0_h1h2_xy_pkl_save/{num_person}/h1h2_xy.pkl'\n",
    "pkl_location_f0   = f'/Users/emilydu/Code/Code_lingustic/Data/f0_h1h2_xy_pkl_save/{num_person}/f0_xy.pkl'\n",
    "\n",
    "with open(pkl_location_h1h2, 'rb') as f:\n",
    "    h1h2_dict = pickle.load(f)\n",
    "with open(pkl_location_f0, 'rb') as f:\n",
    "    f0_dict = pickle.load(f)\n",
    "\n",
    "tones = list(h1h2_dict.keys())\n",
    "\n",
    "tone_widget = widgets.Dropdown(options=tones, value=tones[0], description=\"Tone:\")\n",
    "\n",
    "initial_length = len(h1h2_dict[tone_widget.value]['x'])\n",
    "frame_slider = widgets.IntSlider(min=0, max=initial_length - 1, step=1, value=0, description=\"Frame:\")\n",
    "\n",
    "h1h2_meter = widgets.FloatProgress(value=0, min=0, max=10, description=\"h1h2:\")\n",
    "f0_meter = widgets.FloatProgress(value=0, min=0, max=10, description=\"f0:\")\n",
    "\n",
    "h1h2_value_label = widgets.Label(value=\"h1h2 current: 0.00\")\n",
    "f0_value_label = widgets.Label(value=\"f0 current: 0.00\")\n",
    "\n",
    "y_span = [-10, 10]\n",
    "\n",
    "fig = go.FigureWidget()\n",
    "fig.add_scatter(x=[0, 0], y=y_span, mode='lines',\n",
    "                line=dict(color='blue', width=4), showlegend=False)\n",
    "fig.add_scatter(x=[0, 0], y=y_span, mode='lines',\n",
    "                line=dict(color='red', width=4), showlegend=False)\n",
    "\n",
    "fig.update_layout(title=f\"Vocal Cord Animation: Tone {tone_widget.value}\",\n",
    "                  xaxis=dict(visible=False),\n",
    "                  yaxis=dict(range=y_span),\n",
    "                  showlegend=False)\n",
    "\n",
    "def f0_to_color(current_f0, f0_min, f0_max):\n",
    "    \"\"\"\n",
    "    Map the current f0 value to a color between blue (low) and red (high).\n",
    "    \"\"\"\n",
    "    if f0_max == f0_min:\n",
    "        t = 0.5\n",
    "    else:\n",
    "        t = (current_f0 - f0_min) / (f0_max - f0_min)\n",
    "    r = int(t * 255)\n",
    "    g = 0\n",
    "    b = int((1 - t) * 255)\n",
    "    return f\"rgb({r},{g},{b})\"\n",
    "\n",
    "def update_figure(*args):\n",
    "    tone = tone_widget.value\n",
    "    frame = frame_slider.value\n",
    "\n",
    "    time_arr = np.array(h1h2_dict[tone]['x'])\n",
    "    h1h2_values = np.array(h1h2_dict[tone]['y'])\n",
    "    f0_values = np.array(f0_dict[tone]['y'])\n",
    "    \n",
    "    frame = min(frame, len(time_arr) - 1, len(h1h2_values) - 1, len(f0_values) - 1)\n",
    "    current_time = time_arr[frame]\n",
    "    current_h1h2 = h1h2_values[frame]\n",
    "    current_f0 = f0_values[frame]\n",
    "    \n",
    "    separation = current_h1h2 if current_h1h2 > 0 else 0.0\n",
    "    left_x = -separation / 2\n",
    "    right_x = separation / 2\n",
    "\n",
    "    f0_min = float(np.min(f0_values))\n",
    "    f0_max = float(np.max(f0_values))\n",
    "    color = f0_to_color(current_f0, f0_min, f0_max)\n",
    "\n",
    "    with fig.batch_update():\n",
    "        fig.data[0].x = [left_x, left_x]\n",
    "        fig.data[0].y = y_span\n",
    "        fig.data[1].x = [right_x, right_x]\n",
    "        fig.data[1].y = y_span\n",
    "        fig.data[0].line.color = color\n",
    "        fig.data[1].line.color = color\n",
    "        fig.layout.title = f\"Tone: {tone} | Frame: {frame} | Time: {current_time:.2f}\"\n",
    "    \n",
    "    h1h2_meter.value = current_h1h2\n",
    "    f0_meter.value = current_f0\n",
    "    h1h2_value_label.value = f\"h1h2 current: {current_h1h2:.2f}\"\n",
    "    f0_value_label.value = f\"f0 current: {current_f0:.2f}\"\n",
    "\n",
    "def update_frame_slider_range(*args):\n",
    "    tone = tone_widget.value\n",
    "    new_max = len(h1h2_dict[tone]['x']) - 1\n",
    "    frame_slider.max = new_max\n",
    "    frame_slider.value = 0\n",
    "\n",
    "    h1h2_arr = np.array(h1h2_dict[tone]['y'])\n",
    "    f0_arr = np.array(f0_dict[tone]['y'])\n",
    "    \n",
    "    h1h2_meter.max = float(np.max(h1h2_arr))\n",
    "    h1h2_meter.min = float(np.min(h1h2_arr))\n",
    "    f0_meter.max = float(np.max(f0_arr))\n",
    "    f0_meter.min = float(np.min(f0_arr))\n",
    "\n",
    "start_button = widgets.Button(description=\"Start Animation\", button_style='success')\n",
    "stop_button = widgets.Button(description=\"Stop Animation\", button_style='warning')\n",
    "speed_slider = widgets.IntSlider(value=5, min=1, max=10, step=1, description=\"Speed:\")\n",
    "\n",
    "is_animating = False\n",
    "animation_task = None\n",
    "\n",
    "async def animate_frames():\n",
    "    global is_animating\n",
    "    is_animating = True\n",
    "    total_frames = frame_slider.max + 1\n",
    "    while is_animating:\n",
    "        new_val = frame_slider.value + 1\n",
    "        if new_val >= total_frames:\n",
    "            new_val = 0\n",
    "        frame_slider.value = new_val\n",
    "        fps = (speed_slider.value / 10) * total_frames\n",
    "        delay = 1 / fps\n",
    "        await asyncio.sleep(delay)\n",
    "\n",
    "def start_animation(b):\n",
    "    global animation_task, is_animating\n",
    "    if animation_task is None or animation_task.done():\n",
    "        is_animating = True\n",
    "        animation_task = asyncio.ensure_future(animate_frames())\n",
    "\n",
    "def stop_animation(b):\n",
    "    global is_animating, animation_task\n",
    "    is_animating = False\n",
    "    if animation_task is not None:\n",
    "        animation_task.cancel()\n",
    "        animation_task = None\n",
    "\n",
    "start_button.on_click(start_animation)\n",
    "stop_button.on_click(stop_animation)\n",
    "\n",
    "# Set observers to update figure and meters on widget changes.\n",
    "tone_widget.observe(update_frame_slider_range, names='value')\n",
    "tone_widget.observe(update_figure, names='value')\n",
    "frame_slider.observe(update_figure, names='value')\n",
    "\n",
    "# Initial update.\n",
    "update_frame_slider_range()\n",
    "update_figure()\n",
    "\n",
    "# Layout the UI.\n",
    "ui_controls = widgets.HBox([tone_widget, frame_slider])\n",
    "ui_meters = widgets.VBox([\n",
    "    widgets.HBox([h1h2_meter, h1h2_value_label]),\n",
    "    widgets.HBox([f0_meter, f0_value_label])\n",
    "])\n",
    "animation_controls = widgets.HBox([start_button, stop_button, speed_slider])\n",
    "\n",
    "display(ui_controls, fig, ui_meters, animation_controls)"
   ]
  },
  {
   "cell_type": "code",
   "execution_count": 4,
   "id": "9375702b-ef0c-481c-8d5b-3916a5a602d2",
   "metadata": {
    "scrolled": true
   },
   "outputs": [
    {
     "name": "stdout",
     "output_type": "stream",
     "text": [
      "Python version: 3.11.8 | packaged by conda-forge | (main, Feb 16 2024, 20:49:36) [Clang 16.0.6 ]\n",
      "numpy version: 1.26.4\n",
      "plotly version: 6.0.0\n",
      "ipywidgets version: 8.1.5\n",
      "IPython version: 8.27.0\n"
     ]
    }
   ],
   "source": []
  },
  {
   "cell_type": "code",
   "execution_count": null,
   "id": "ca53058d-71d2-424c-a986-ad5f7f40ba62",
   "metadata": {},
   "outputs": [],
   "source": []
  }
 ],
 "metadata": {
  "kernelspec": {
   "display_name": "Python [conda env:base] *",
   "language": "python",
   "name": "conda-base-py"
  },
  "language_info": {
   "codemirror_mode": {
    "name": "ipython",
    "version": 3
   },
   "file_extension": ".py",
   "mimetype": "text/x-python",
   "name": "python",
   "nbconvert_exporter": "python",
   "pygments_lexer": "ipython3",
   "version": "3.11.8"
  }
 },
 "nbformat": 4,
 "nbformat_minor": 5
}
